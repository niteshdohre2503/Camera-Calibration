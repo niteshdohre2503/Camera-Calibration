{
 "cells": [
  {
   "cell_type": "code",
   "execution_count": 2,
   "id": "111c0950",
   "metadata": {},
   "outputs": [],
   "source": [
    "import cv2\n",
    "import numpy as np\n",
    "from glob import glob\n",
    "np.set_printoptions(suppress=True, formatter={'float_kind':'{:f}'.format})"
   ]
  },
  {
   "cell_type": "code",
   "execution_count": 3,
   "id": "f40f456b",
   "metadata": {},
   "outputs": [],
   "source": [
    "def get_line(coords):\n",
    "    assert np.shape(coords)[0] == 2\n",
    "    x1 = np.hstack((coords[0],1))\n",
    "    x2 = np.hstack((coords[1],1))\n",
    "    l = np.cross(x1,x2)\n",
    "    l = np.divide(l,l[-1])\n",
    "    return l\n",
    "   \n",
    "def find_line_infinity(coords):\n",
    "    assert np.shape(coords)[0] == 4\n",
    "    l1,l2 = get_line(coords[:2]), get_line(coords[2:])\n",
    "    p1 = np.cross(l1,l2)\n",
    "    p1 = np.divide(p1,p1[-1])\n",
    "    l3,l4 = get_line(coords[::2]), get_line(coords[1::2])\n",
    "    p2 = np.cross(l3,l4)\n",
    "    p2 = np.divide(p2,p2[-1])\n",
    "    l_inf = np.cross(p1,p2)\n",
    "    l_inf = np.divide(l_inf,l_inf[-1])\n",
    "   \n",
    "    return  p1,p2,l_inf"
   ]
  },
  {
   "cell_type": "code",
   "execution_count": 4,
   "id": "b1bbba0b",
   "metadata": {},
   "outputs": [],
   "source": [
    "def build_k_matrix(kkt):\n",
    "    k = np.zeros((3,3))\n",
    "    k[:,-1] = kkt[:,-1]\n",
    "    k[1,1] = np.sqrt(kkt[1,1]-kkt[1,2]**2)\n",
    "    k[0,1] = (kkt[0,1] - kkt[0,2]*kkt[1,2])/k[1,1]\n",
    "    k[0,0] = np.sqrt(kkt[0,0]-k[0,1]**2-kkt[0,2]**2)\n",
    "    k[-1,-1] = 1\n",
    "    return k"
   ]
  },
  {
   "cell_type": "code",
   "execution_count": 47,
   "id": "5de012ec",
   "metadata": {},
   "outputs": [
    {
     "name": "stdout",
     "output_type": "stream",
     "text": [
      "For Dataset2\n",
      "Intrinsic Parameter of Camera k:\n",
      "[[596.814103 0.000000 325.509371]\n",
      " [0.000000 596.814103 414.169660]\n",
      " [0.000000 0.000000 1.000000]]\n",
      "\n",
      " Image of Absolute Conic w: \n",
      "\n",
      "[[0.000002 -0.000000 -0.000514]\n",
      " [-0.000000 0.000002 -0.000654]\n",
      " [-0.000514 -0.000654 1.000000]]\n"
     ]
    }
   ],
   "source": [
    "#Dataset1  \n",
    "#dimension of images 750X900\n",
    "COORDS_1 = [[(55,111),(401,152),(62,520),(456,485)],\n",
    "              [(124,237),(363,106),(151,531),(430,486)],\n",
    "              [(156,266),(355,131),(175,546),(406,522)],\n",
    "              [(96,219),(395,85),(142,541),(490,467)],\n",
    "              [(161,294),(428,149),(266,600),(441,419)],\n",
    "              [(176,13),(473,183),(137,510),(499,530)],\n",
    "              ]\n",
    "\n",
    "#Dataset2 \n",
    "#Dimension of image 768*1024\n",
    "COORDS_2 = [[(247,543),(512,552),(171,710),(579,725)],\\\n",
    "          [(318,575),(589,604),(177,705),(590,766)],\\\n",
    "          [(164,215),(449,335),(176,676),(485,659)],\\\n",
    "          [(294,391),(565,310),(223,680),(549,672)],\\\n",
    "          [(211,323),(541,327),(157,639),(603,639)],\\\n",
    "          [(385,516),(653,565),(210,623),(580,724)]]\n",
    "\n",
    "x=len(COORDS_1)\n",
    "A = np.zeros((x,4))\n",
    "i = 0\n",
    "    \n",
    "for k in range (x):\n",
    "    coords = COORDS_1[k]\n",
    "    p1,p2,l_inf = find_line_infinity(coords)\n",
    "    A[i] = np.asarray([p1[0]*p2[0]+p1[1]*p2[1],1,p1[0]+p2[0],p1[1]+p2[1]])\n",
    "    i += 1\n",
    "\n",
    "_,_,vh = np.linalg.svd(A)\n",
    "x = vh.T[:,-1]\n",
    "\n",
    "w = np.asarray([[x[0],0,x[2]],[0,x[0],x[3]],[x[2],x[3],x[1]]])\n",
    "kkt = np.linalg.pinv(w)\n",
    "kkt = np.divide(kkt,kkt[-1,-1])\n",
    "k = build_k_matrix(kkt)\n",
    "\n",
    "print(\"For Dataset2\")\n",
    "print('Intrinsic Parameter of Camera k:')\n",
    "print(k)\n",
    "print('\\n Image of Absolute Conic w: \\n')\n",
    "w = np.linalg.inv(np.matmul(k,k.T))\n",
    "print(np.divide(w,w[-1,-1]))\n"
   ]
  },
  {
   "cell_type": "code",
   "execution_count": 70,
   "id": "886425f9",
   "metadata": {},
   "outputs": [
    {
     "data": {
      "text/plain": [
       "array([[0.001676, -0.000000, -0.545412],\n",
       "       [-0.000000, 0.001676, -0.693968],\n",
       "       [0.000000, -0.000000, 1.000000]])"
      ]
     },
     "execution_count": 70,
     "metadata": {},
     "output_type": "execute_result"
    }
   ],
   "source": [
    "#inverse of K \n",
    "kin=np.linalg.pinv(k)\n",
    "kin = np.divide(kin,kin[-1,-1])\n",
    "kin"
   ]
  },
  {
   "cell_type": "code",
   "execution_count": null,
   "id": "553db31d",
   "metadata": {},
   "outputs": [],
   "source": []
  },
  {
   "cell_type": "markdown",
   "id": "d62482e6",
   "metadata": {},
   "source": [
    "# Finding Extrinsic parameter of camera"
   ]
  },
  {
   "cell_type": "code",
   "execution_count": 71,
   "id": "538cf1de",
   "metadata": {},
   "outputs": [],
   "source": [
    "img_points2 = np.array([[205,255,1],[229,256,1],\n",
    "              [278,255,1],[207,307,1],\n",
    "              [230,307,1],[277,305,1]])\n",
    "\n",
    "w_points2= np.array([[0.6,12.1,64.9],[3.2,12.1,64.9],\n",
    "              [8.2,12.1,64.9],[0.6,6.9,64.9],\n",
    "              [3.2,6.9,64.9],[8.2,6.9,64.9]])\n",
    "\n",
    "# img_points2 = np.array([[108,476,1],[176,479,1],[309,477,1],[106,615,1],\n",
    "#                 [174,615,1],[310,615,1]])\n",
    "\n",
    "# w_points2= np.array([[0.6,12.1,26.3],[3.2,12.1,26.3],\n",
    "#               [8.2,12.1,26.3],[0.6,6.9,26.3],\n",
    "#               [3.2,6.9,26.3],[8.2,6.9,26.3]])\n"
   ]
  },
  {
   "cell_type": "code",
   "execution_count": 72,
   "id": "1b5e533c",
   "metadata": {},
   "outputs": [
    {
     "name": "stdout",
     "output_type": "stream",
     "text": [
      "Extrinsic Parameter Matrix for DataSet2\n",
      "[[0.015807 -0.000215 -0.003210 -0.000049]\n",
      " [-0.000258 -0.016433 -0.001021 -0.000016]\n",
      " [0.000000 -0.000000 0.015405 0.000237]]\n"
     ]
    }
   ],
   "source": [
    "a=3*len(img_points2)\n",
    "A= np.zeros((a,12))\n",
    "b= np.zeros((a,1))\n",
    "    \n",
    "for i in range(0,a,3):\n",
    "    #print(i)\n",
    "    X = w_points2[int(i/3)][0]\n",
    "    Y=  w_points2[int(i/3)][1]\n",
    "    Z=  w_points2[int(i/3)][2]\n",
    "    #print(i)\n",
    "    #Forming set of linear homogeneous equation(by Direct linear Transform)\n",
    "    A[i]=[X,Y,Z,0,0,0,0,0,0,1,0,0]\n",
    "    A[i+1]=[0,0,0,X,Y,Z,0,0,0,0,1,0]\n",
    "    A[i+2]=[0,0,0,0,0,0,X,Y,Z,0,0,1]\n",
    "    \n",
    "    \n",
    "    \n",
    "    p=[img_points2[int(i/3)][0],img_points2[int(i/3)][1],img_points2[int(i/3)][2]]\n",
    "    #print(p)\n",
    "    \n",
    "    c = np.matmul(kin,np.transpose(p))\n",
    "    b[i]=c[0]\n",
    "    b[i+1]=c[1]\n",
    "    b[i+2]=c[2]\n",
    "    \n",
    "    #i=i+3\n",
    "   \n",
    "rt= np.linalg.lstsq(A,b,rcond=-1)[0]\n",
    " \n",
    "#Extrinsic parameter matrix rot_trans = [R t]\n",
    "shape=(3,4)\n",
    "rot_trans=np.zeros(shape)\n",
    "j=0\n",
    "for i in range(3):\n",
    "    \n",
    "    rot_trans[i][0] = rt[j+0]\n",
    "    rot_trans[i][1] = rt[j+1]\n",
    "    rot_trans[i][2] = rt[j+2]\n",
    "    #rot_trans[i][3]  = rt[j+3]\n",
    "    j=j+3\n",
    "rot_trans[0][3]=rt[9]\n",
    "rot_trans[1][3]=rt[10]\n",
    "rot_trans[2][3]=rt[11]\n",
    "\n",
    "print(\"Extrinsic Parameter Matrix for DataSet2\")\n",
    "print(rot_trans)     "
   ]
  },
  {
   "cell_type": "code",
   "execution_count": 73,
   "id": "799e1503",
   "metadata": {},
   "outputs": [
    {
     "name": "stdout",
     "output_type": "stream",
     "text": [
      "Projection Matrix For Dataset 2 :\n",
      "\n",
      "[[9.433646 -0.128205 3.098648 0.047745]\n",
      " [-0.154155 -9.807692 5.770942 0.088921]\n",
      " [0.000000 -0.000000 0.015405 0.000237]]\n"
     ]
    }
   ],
   "source": [
    "projection_matrix=np.matmul(k,rot_trans)\n",
    "P=projection_matrix\n",
    "print(\"Projection Matrix For Dataset 2 :\\n\")\n",
    "print(P)"
   ]
  },
  {
   "cell_type": "markdown",
   "id": "bb95f9d3",
   "metadata": {},
   "source": [
    "# Projecting an Artificial Object into image plane from world coordinate"
   ]
  },
  {
   "cell_type": "code",
   "execution_count": 88,
   "id": "6ce28dd5",
   "metadata": {},
   "outputs": [
    {
     "name": "stdout",
     "output_type": "stream",
     "text": [
      "(254, 251) (302, 250) (303, 305) (254, 306) (345, 277)\n"
     ]
    },
    {
     "data": {
      "text/plain": [
       "-1"
      ]
     },
     "execution_count": 88,
     "metadata": {},
     "output_type": "execute_result"
    }
   ],
   "source": [
    "img1 = cv2.imread('./NewData1/chess_vr.jpg')\n",
    "img1 = cv2.resize(img1,(600,900))\n",
    "color = (0, 125, 255)\n",
    "thickness =2\n",
    "# world coordinate point of a Prism \n",
    "#dataset2\n",
    "# a = np.array([5.7,12.3,26.3,1])\n",
    "# b = np.array([10.8,12.3,26.3,1])\n",
    "# c = np.array([10.8,6.8,26.3,1])\n",
    "# d = np.array([5.7,6.8,26.3,1])\n",
    "# e = np.array([15.2,9.5,26.3,1])\n",
    "\n",
    "#dataset1\n",
    "\n",
    "a = np.array([5.7,12.3,64,1])\n",
    "b = np.array([10.8,12.3,64,1])\n",
    "c = np.array([10.8,6.8,64,1])\n",
    "d = np.array([5.7,6.8,64,1])\n",
    "e = np.array([15.2,9.5,64,1])\n",
    "\n",
    "\n",
    "#projected world coordinate of cube into image plane by doing\n",
    "# x=PX operation\n",
    "projected_a =np.matmul(P,a)\n",
    "projected_b=np.matmul(P,b)\n",
    "projected_c =np.matmul(P,c)\n",
    "projected_d =np.matmul(P,d)\n",
    "projected_e =np.matmul(P,e)\n",
    "\n",
    "#Finding 2D image Coordinate of Object x' = x/z  y'=y/z\n",
    "Euclidean_a = (int(projected_a[0]/projected_a[2]),int(projected_a[1]/projected_a[2]))      \n",
    "Euclidean_b = (int(projected_b[0]/projected_b[2]),int(projected_b[1]/projected_b[2]))    \n",
    "Euclidean_c = (int(projected_c[0]/projected_c[2]),int(projected_c[1]/projected_c[2]))\n",
    "Euclidean_d = (int(projected_d[0]/projected_d[2]),int(projected_d[1]/projected_d[2]))\n",
    "Euclidean_e = (int(projected_e[0]/projected_e[2]),int(projected_e[1]/projected_e[2]))\n",
    "\n",
    "#location of points in image plane\n",
    "print(Euclidean_a,Euclidean_b,Euclidean_c,Euclidean_d,Euclidean_e)\n",
    "thickness =2\n",
    "\n",
    "#connecting points in image plane by drawing line between them\n",
    "img1 = cv2.line(img1, Euclidean_a, Euclidean_b, color, thickness)\n",
    "img1 = cv2.line(img1, Euclidean_b, Euclidean_c, color, thickness)\n",
    "img1 = cv2.line(img1, Euclidean_c, Euclidean_d, color, thickness)\n",
    "img1 = cv2.line(img1, Euclidean_d, Euclidean_a, color, thickness)\n",
    "img1 = cv2.line(img1, Euclidean_a, Euclidean_e, color, thickness)\n",
    "img1 = cv2.line(img1, Euclidean_b, Euclidean_e, color, thickness)\n",
    "img1 = cv2.line(img1, Euclidean_c, Euclidean_e, color, thickness)\n",
    "img1 = cv2.line(img1, Euclidean_d, Euclidean_e, color, thickness)\n",
    "\n",
    "\n",
    "cv2.imshow(\"Aurgumented_reality_Image\",img1)\n",
    "cv2.imwrite('./NewData1/Ar_output2.png',img1)\n",
    "cv2.waitKey(0)\n"
   ]
  },
  {
   "cell_type": "code",
   "execution_count": null,
   "id": "5eb0df58",
   "metadata": {},
   "outputs": [],
   "source": []
  },
  {
   "cell_type": "code",
   "execution_count": null,
   "id": "ddba3285",
   "metadata": {},
   "outputs": [],
   "source": []
  }
 ],
 "metadata": {
  "kernelspec": {
   "display_name": "Python 3 (ipykernel)",
   "language": "python",
   "name": "python3"
  },
  "language_info": {
   "codemirror_mode": {
    "name": "ipython",
    "version": 3
   },
   "file_extension": ".py",
   "mimetype": "text/x-python",
   "name": "python",
   "nbconvert_exporter": "python",
   "pygments_lexer": "ipython3",
   "version": "3.10.7"
  }
 },
 "nbformat": 4,
 "nbformat_minor": 5
}
